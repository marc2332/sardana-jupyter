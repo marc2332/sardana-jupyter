{
 "cells": [
  {
   "cell_type": "code",
   "execution_count": 1,
   "metadata": {},
   "outputs": [
    {
     "data": {
      "application/vnd.jupyter.widget-view+json": {
       "model_id": "2dc2faf9fc424725a4e66c8be69e0513",
       "version_major": 2,
       "version_minor": 0
      },
      "text/plain": [
       "FloatProgress(value=0.0, bar_style='info', description='Progress:')"
      ]
     },
     "metadata": {},
     "output_type": "display_data"
    },
    {
     "name": "stdout",
     "output_type": "stream",
     "text": [
      "                          Name                                                                                                Location\n",
      " ----------------------------- -------------------------------------------------------------------------------------------------------\n",
      "               _blockprintmove                             /homelocal/zreszela/workspace/sardana/src/sardana/macroserver/macros/hkl.py\n",
      "                           _ca                             /homelocal/zreszela/workspace/sardana/src/sardana/macroserver/macros/hkl.py\n",
      "                    _diff_scan                             /homelocal/zreszela/workspace/sardana/src/sardana/macroserver/macros/hkl.py\n",
      "                           _ls                           /homelocal/zreszela/workspace/sardana/src/sardana/macroserver/macros/lists.py\n",
      "                        _lsobj                           /homelocal/zreszela/workspace/sardana/src/sardana/macroserver/macros/lists.py\n",
      "               _movetostatspos                        /homelocal/zreszela/workspace/sardana/src/sardana/macroserver/macros/standard.py\n",
      "                           _wm                        /homelocal/zreszela/workspace/sardana/src/sardana/macroserver/macros/standard.py\n",
      "                          _wum                        /homelocal/zreszela/workspace/sardana/src/sardana/macroserver/macros/standard.py\n",
      "                        a2scan                            /homelocal/zreszela/workspace/sardana/src/sardana/macroserver/macros/scan.py\n",
      "                    a2scan_mod                  /homelocal/zreszela/workspace/sardana/src/sardana/macroserver/macros/examples/scans.py\n",
      "                       a2scanc                            /homelocal/zreszela/workspace/sardana/src/sardana/macroserver/macros/scan.py\n",
      "                      a2scanct                            /homelocal/zreszela/workspace/sardana/src/sardana/macroserver/macros/scan.py\n",
      "                        a3scan                            /homelocal/zreszela/workspace/sardana/src/sardana/macroserver/macros/scan.py\n",
      "                       a3scanc                            /homelocal/zreszela/workspace/sardana/src/sardana/macroserver/macros/scan.py\n",
      "                      a3scanct                            /homelocal/zreszela/workspace/sardana/src/sardana/macroserver/macros/scan.py\n",
      "                        a4scan                            /homelocal/zreszela/workspace/sardana/src/sardana/macroserver/macros/scan.py\n",
      "                       a4scanc                            /homelocal/zreszela/workspace/sardana/src/sardana/macroserver/macros/scan.py\n",
      "                      a4scanct                            /homelocal/zreszela/workspace/sardana/src/sardana/macroserver/macros/scan.py\n",
      "                acq_expchannel            /homelocal/zreszela/workspace/sardana/src/sardana/macroserver/macros/examples/acquisition.py\n",
      "          acq_expchannel_async            /homelocal/zreszela/workspace/sardana/src/sardana/macroserver/macros/examples/acquisition.py\n",
      "                acq_meas_async            /homelocal/zreszela/workspace/sardana/src/sardana/macroserver/macros/examples/acquisition.py\n",
      "                    addctrllib                          /homelocal/zreszela/workspace/sardana/src/sardana/macroserver/macros/expert.py\n",
      "                     addmaclib                          /homelocal/zreszela/workspace/sardana/src/sardana/macroserver/macros/expert.py\n",
      "                 addreflection                             /homelocal/zreszela/workspace/sardana/src/sardana/macroserver/macros/hkl.py\n",
      "                        affine                             /homelocal/zreszela/workspace/sardana/src/sardana/macroserver/macros/hkl.py\n",
      "                    amultiscan                            /homelocal/zreszela/workspace/sardana/src/sardana/macroserver/macros/scan.py\n",
      "                         ascan                            /homelocal/zreszela/workspace/sardana/src/sardana/macroserver/macros/scan.py\n",
      "                    ascan_demo                  /homelocal/zreszela/workspace/sardana/src/sardana/macroserver/macros/examples/scans.py\n",
      "      ascan_with_addcustomdata                  /homelocal/zreszela/workspace/sardana/src/sardana/macroserver/macros/examples/scans.py\n",
      "                        ascanc                            /homelocal/zreszela/workspace/sardana/src/sardana/macroserver/macros/scan.py\n",
      "                   ascanc_demo                  /homelocal/zreszela/workspace/sardana/src/sardana/macroserver/macros/examples/scans.py\n",
      "                       ascanct                            /homelocal/zreszela/workspace/sardana/src/sardana/macroserver/macros/scan.py\n",
      "            ascanct_midtrigger                  /homelocal/zreszela/workspace/sardana/src/sardana/macroserver/macros/examples/scans.py\n",
      "                        ascanh                            /homelocal/zreszela/workspace/sardana/src/sardana/macroserver/macros/scan.py\n",
      "                        ascanr                  /homelocal/zreszela/workspace/sardana/src/sardana/macroserver/macros/examples/scans.py\n",
      "             ask_for_car_brand             /homelocal/zreszela/workspace/sardana/src/sardana/macroserver/macros/examples/user_input.py\n",
      "              ask_for_moveable             /homelocal/zreszela/workspace/sardana/src/sardana/macroserver/macros/examples/user_input.py\n",
      "   ask_for_multiple_car_brands             /homelocal/zreszela/workspace/sardana/src/sardana/macroserver/macros/examples/user_input.py\n",
      "          ask_number_of_points             /homelocal/zreszela/workspace/sardana/src/sardana/macroserver/macros/examples/user_input.py\n",
      "                      ask_peak             /homelocal/zreszela/workspace/sardana/src/sardana/macroserver/macros/examples/user_input.py\n",
      "                   ask_peak_v2             /homelocal/zreszela/workspace/sardana/src/sardana/macroserver/macros/examples/user_input.py\n",
      "                   ask_peak_v3             /homelocal/zreszela/workspace/sardana/src/sardana/macroserver/macros/examples/user_input.py\n",
      "                   ask_peak_v4             /homelocal/zreszela/workspace/sardana/src/sardana/macroserver/macros/examples/user_input.py\n",
      "                   ask_peak_v5             /homelocal/zreszela/workspace/sardana/src/sardana/macroserver/macros/examples/user_input.py\n",
      "                            br                             /homelocal/zreszela/workspace/sardana/src/sardana/macroserver/macros/hkl.py\n",
      "                            ca                             /homelocal/zreszela/workspace/sardana/src/sardana/macroserver/macros/hkl.py\n",
      "                           caa                             /homelocal/zreszela/workspace/sardana/src/sardana/macroserver/macros/hkl.py\n",
      "                       call_wa              /homelocal/zreszela/workspace/sardana/src/sardana/macroserver/macros/examples/submacros.py\n",
      "                       call_wm              /homelocal/zreszela/workspace/sardana/src/sardana/macroserver/macros/examples/submacros.py\n",
      "                  captain_hook                  /homelocal/zreszela/workspace/sardana/src/sardana/macroserver/macros/examples/hooks.py\n",
      "                 captain_hook2                  /homelocal/zreszela/workspace/sardana/src/sardana/macroserver/macros/examples/hooks.py\n",
      "                           cen                        /homelocal/zreszela/workspace/sardana/src/sardana/macroserver/macros/standard.py\n",
      "                            ci                             /homelocal/zreszela/workspace/sardana/src/sardana/macroserver/macros/hkl.py\n",
      "                clear_sar_demo                            /homelocal/zreszela/workspace/sardana/src/sardana/macroserver/macros/demo.py\n",
      "            clear_sar_demo_hkl                            /homelocal/zreszela/workspace/sardana/src/sardana/macroserver/macros/demo.py\n",
      "                commit_ctrllib                          /homelocal/zreszela/workspace/sardana/src/sardana/macroserver/macros/expert.py\n",
      "                     computeub                             /homelocal/zreszela/workspace/sardana/src/sardana/macroserver/macros/hkl.py\n",
      "                            ct                        /homelocal/zreszela/workspace/sardana/src/sardana/macroserver/macros/standard.py\n",
      "                        d2scan                            /homelocal/zreszela/workspace/sardana/src/sardana/macroserver/macros/scan.py\n"
     ]
    },
    {
     "name": "stdout",
     "output_type": "stream",
     "text": [
      "                       d2scanc                            /homelocal/zreszela/workspace/sardana/src/sardana/macroserver/macros/scan.py\n",
      "                      d2scanct                            /homelocal/zreszela/workspace/sardana/src/sardana/macroserver/macros/scan.py\n",
      "                        d3scan                            /homelocal/zreszela/workspace/sardana/src/sardana/macroserver/macros/scan.py\n",
      "                       d3scanc                            /homelocal/zreszela/workspace/sardana/src/sardana/macroserver/macros/scan.py\n",
      "                      d3scanct                            /homelocal/zreszela/workspace/sardana/src/sardana/macroserver/macros/scan.py\n",
      "                        d4scan                            /homelocal/zreszela/workspace/sardana/src/sardana/macroserver/macros/scan.py\n",
      "                       d4scanc                            /homelocal/zreszela/workspace/sardana/src/sardana/macroserver/macros/scan.py\n",
      "                      d4scanct                            /homelocal/zreszela/workspace/sardana/src/sardana/macroserver/macros/scan.py\n",
      "                 def_discr_pos                        /homelocal/zreszela/workspace/sardana/src/sardana/macroserver/macros/discrete.py\n",
      "                       defctrl                          /homelocal/zreszela/workspace/sardana/src/sardana/macroserver/macros/expert.py\n",
      "                       defelem                          /homelocal/zreszela/workspace/sardana/src/sardana/macroserver/macros/expert.py\n",
      "                         defgh                             /homelocal/zreszela/workspace/sardana/src/sardana/macroserver/macros/env.py\n",
      "                          defm                          /homelocal/zreszela/workspace/sardana/src/sardana/macroserver/macros/expert.py\n",
      "                       defmeas                          /homelocal/zreszela/workspace/sardana/src/sardana/macroserver/macros/expert.py\n",
      "                       defsnap                         /homelocal/zreszela/workspace/sardana/src/sardana/macroserver/macros/expconf.py\n",
      "                         dmesh                            /homelocal/zreszela/workspace/sardana/src/sardana/macroserver/macros/scan.py\n",
      "                        dmeshc                            /homelocal/zreszela/workspace/sardana/src/sardana/macroserver/macros/scan.py\n",
      "                    dmultiscan                            /homelocal/zreszela/workspace/sardana/src/sardana/macroserver/macros/scan.py\n",
      "                         dscan                            /homelocal/zreszela/workspace/sardana/src/sardana/macroserver/macros/scan.py\n",
      "                        dscanc                            /homelocal/zreszela/workspace/sardana/src/sardana/macroserver/macros/scan.py\n",
      "                       dscanct                            /homelocal/zreszela/workspace/sardana/src/sardana/macroserver/macros/scan.py\n",
      "                       dumpenv                             /homelocal/zreszela/workspace/sardana/src/sardana/macroserver/macros/env.py\n",
      "                     edctrlcls                          /homelocal/zreszela/workspace/sardana/src/sardana/macroserver/macros/expert.py\n",
      "                     edctrllib                          /homelocal/zreszela/workspace/sardana/src/sardana/macroserver/macros/expert.py\n",
      "                        freeze                             /homelocal/zreszela/workspace/sardana/src/sardana/macroserver/macros/hkl.py\n",
      "                         fscan                            /homelocal/zreszela/workspace/sardana/src/sardana/macroserver/macros/scan.py\n",
      "                          genv                             /homelocal/zreszela/workspace/sardana/src/sardana/macroserver/macros/env.py\n",
      "                           get                   /homelocal/zreszela/workspace/sardana/src/sardana/macroserver/macros/communication.py\n",
      "                      get_data              /homelocal/zreszela/workspace/sardana/src/sardana/macroserver/macros/examples/submacros.py\n",
      "                      get_meas                         /homelocal/zreszela/workspace/sardana/src/sardana/macroserver/macros/expconf.py\n",
      "                 get_meas_conf                         /homelocal/zreszela/workspace/sardana/src/sardana/macroserver/macros/expconf.py\n",
      "                       getmode                             /homelocal/zreszela/workspace/sardana/src/sardana/macroserver/macros/hkl.py\n",
      "                       hklscan                             /homelocal/zreszela/workspace/sardana/src/sardana/macroserver/macros/hkl.py\n",
      "              hooked_dummyscan                  /homelocal/zreszela/workspace/sardana/src/sardana/macroserver/macros/examples/hooks.py\n",
      "                   hooked_scan                  /homelocal/zreszela/workspace/sardana/src/sardana/macroserver/macros/examples/hooks.py\n",
      "        hooked_scan_with_macro                  /homelocal/zreszela/workspace/sardana/src/sardana/macroserver/macros/examples/hooks.py\n",
      "                         hscan                             /homelocal/zreszela/workspace/sardana/src/sardana/macroserver/macros/hkl.py\n",
      "                         kscan                             /homelocal/zreszela/workspace/sardana/src/sardana/macroserver/macros/hkl.py\n",
      "                    latticecal                             /homelocal/zreszela/workspace/sardana/src/sardana/macroserver/macros/hkl.py\n",
      "                      load_env                             /homelocal/zreszela/workspace/sardana/src/sardana/macroserver/macros/env.py\n",
      "                   loadcrystal                             /homelocal/zreszela/workspace/sardana/src/sardana/macroserver/macros/hkl.py\n",
      "                      logmacro                        /homelocal/zreszela/workspace/sardana/src/sardana/macroserver/macros/standard.py\n",
      "                          loop                  /homelocal/zreszela/workspace/sardana/src/sardana/macroserver/macros/examples/hooks.py\n",
      "                          ls0d                           /homelocal/zreszela/workspace/sardana/src/sardana/macroserver/macros/lists.py\n",
      "                          ls1d                           /homelocal/zreszela/workspace/sardana/src/sardana/macroserver/macros/lists.py\n",
      "                          ls2d                           /homelocal/zreszela/workspace/sardana/src/sardana/macroserver/macros/lists.py\n",
      "                           lsa                           /homelocal/zreszela/workspace/sardana/src/sardana/macroserver/macros/lists.py\n",
      "                         lscan                             /homelocal/zreszela/workspace/sardana/src/sardana/macroserver/macros/hkl.py\n",
      "                         lscom                           /homelocal/zreszela/workspace/sardana/src/sardana/macroserver/macros/lists.py\n",
      "                          lsct                           /homelocal/zreszela/workspace/sardana/src/sardana/macroserver/macros/lists.py\n",
      "                        lsctrl                           /homelocal/zreszela/workspace/sardana/src/sardana/macroserver/macros/lists.py\n",
      "                     lsctrllib                           /homelocal/zreszela/workspace/sardana/src/sardana/macroserver/macros/lists.py\n",
      "                         lsdef                           /homelocal/zreszela/workspace/sardana/src/sardana/macroserver/macros/lists.py\n",
      "                         lsenv                             /homelocal/zreszela/workspace/sardana/src/sardana/macroserver/macros/env.py\n",
      "                         lsexp                           /homelocal/zreszela/workspace/sardana/src/sardana/macroserver/macros/lists.py\n",
      "                          lsgh                             /homelocal/zreszela/workspace/sardana/src/sardana/macroserver/macros/env.py\n",
      "                           lsi                           /homelocal/zreszela/workspace/sardana/src/sardana/macroserver/macros/lists.py\n",
      "                         lsior                           /homelocal/zreszela/workspace/sardana/src/sardana/macroserver/macros/lists.py\n",
      "                           lsm                           /homelocal/zreszela/workspace/sardana/src/sardana/macroserver/macros/lists.py\n",
      "                         lsmac                           /homelocal/zreszela/workspace/sardana/src/sardana/macroserver/macros/lists.py\n",
      "                      lsmaclib                           /homelocal/zreszela/workspace/sardana/src/sardana/macroserver/macros/lists.py\n"
     ]
    },
    {
     "name": "stdout",
     "output_type": "stream",
     "text": [
      "                        lsmeas                           /homelocal/zreszela/workspace/sardana/src/sardana/macroserver/macros/lists.py\n",
      "                           lsp                           /homelocal/zreszela/workspace/sardana/src/sardana/macroserver/macros/lists.py\n",
      "                          lspc                           /homelocal/zreszela/workspace/sardana/src/sardana/macroserver/macros/lists.py\n",
      "                          lspm                           /homelocal/zreszela/workspace/sardana/src/sardana/macroserver/macros/lists.py\n",
      "                        lssnap                         /homelocal/zreszela/workspace/sardana/src/sardana/macroserver/macros/expconf.py\n",
      "                          lstg                           /homelocal/zreszela/workspace/sardana/src/sardana/macroserver/macros/lists.py\n",
      "                          lsvo                             /homelocal/zreszela/workspace/sardana/src/sardana/macroserver/macros/env.py\n",
      "                        luppsi                             /homelocal/zreszela/workspace/sardana/src/sardana/macroserver/macros/hkl.py\n",
      "                     mainmacro              /homelocal/zreszela/workspace/sardana/src/sardana/macroserver/macros/examples/submacros.py\n",
      "                     mca_start                             /homelocal/zreszela/workspace/sardana/src/sardana/macroserver/macros/mca.py\n",
      "                      mca_stop                             /homelocal/zreszela/workspace/sardana/src/sardana/macroserver/macros/mca.py\n",
      "                          mesh                            /homelocal/zreszela/workspace/sardana/src/sardana/macroserver/macros/scan.py\n",
      "                         meshc                            /homelocal/zreszela/workspace/sardana/src/sardana/macroserver/macros/scan.py\n",
      "                        meshct                            /homelocal/zreszela/workspace/sardana/src/sardana/macroserver/macros/scan.py\n",
      "                        mfunc1                  /homelocal/zreszela/workspace/sardana/src/sardana/macroserver/macros/examples/funcs.py\n",
      "                        mfunc2                  /homelocal/zreszela/workspace/sardana/src/sardana/macroserver/macros/examples/funcs.py\n",
      "                        mfunc3                  /homelocal/zreszela/workspace/sardana/src/sardana/macroserver/macros/examples/funcs.py\n",
      "                        mfunc4                  /homelocal/zreszela/workspace/sardana/src/sardana/macroserver/macros/examples/funcs.py\n",
      "                        mfunc5                  /homelocal/zreszela/workspace/sardana/src/sardana/macroserver/macros/examples/funcs.py\n",
      "                          move                  /homelocal/zreszela/workspace/sardana/src/sardana/macroserver/macros/examples/funcs.py\n",
      "                    move_async                 /homelocal/zreszela/workspace/sardana/src/sardana/macroserver/macros/examples/motion.py\n",
      "                        mstate                        /homelocal/zreszela/workspace/sardana/src/sardana/macroserver/macros/standard.py\n",
      "                            mv                        /homelocal/zreszela/workspace/sardana/src/sardana/macroserver/macros/standard.py\n",
      "                           mvr                        /homelocal/zreszela/workspace/sardana/src/sardana/macroserver/macros/standard.py\n",
      "                    newcrystal                             /homelocal/zreszela/workspace/sardana/src/sardana/macroserver/macros/hkl.py\n",
      "                       newfile                        /homelocal/zreszela/workspace/sardana/src/sardana/macroserver/macros/standard.py\n",
      "                           or0                             /homelocal/zreszela/workspace/sardana/src/sardana/macroserver/macros/hkl.py\n",
      "                           or1                             /homelocal/zreszela/workspace/sardana/src/sardana/macroserver/macros/hkl.py\n",
      "                        orswap                             /homelocal/zreszela/workspace/sardana/src/sardana/macroserver/macros/hkl.py\n",
      "                            pa                             /homelocal/zreszela/workspace/sardana/src/sardana/macroserver/macros/hkl.py\n",
      "                           pic                        /homelocal/zreszela/workspace/sardana/src/sardana/macroserver/macros/standard.py\n",
      "                    plotselect                        /homelocal/zreszela/workspace/sardana/src/sardana/macroserver/macros/standard.py\n",
      "                         prdef                          /homelocal/zreszela/workspace/sardana/src/sardana/macroserver/macros/expert.py\n",
      "                   prdef_discr                        /homelocal/zreszela/workspace/sardana/src/sardana/macroserver/macros/discrete.py\n",
      "                           pt0             /homelocal/zreszela/workspace/sardana/src/sardana/macroserver/macros/examples/parameters.py\n",
      "                           pt1             /homelocal/zreszela/workspace/sardana/src/sardana/macroserver/macros/examples/parameters.py\n",
      "                          pt10             /homelocal/zreszela/workspace/sardana/src/sardana/macroserver/macros/examples/parameters.py\n",
      "                          pt11             /homelocal/zreszela/workspace/sardana/src/sardana/macroserver/macros/examples/parameters.py\n",
      "                          pt12             /homelocal/zreszela/workspace/sardana/src/sardana/macroserver/macros/examples/parameters.py\n",
      "                          pt13             /homelocal/zreszela/workspace/sardana/src/sardana/macroserver/macros/examples/parameters.py\n",
      "                          pt14             /homelocal/zreszela/workspace/sardana/src/sardana/macroserver/macros/examples/parameters.py\n",
      "                         pt14d             /homelocal/zreszela/workspace/sardana/src/sardana/macroserver/macros/examples/parameters.py\n",
      "                          pt1d             /homelocal/zreszela/workspace/sardana/src/sardana/macroserver/macros/examples/parameters.py\n",
      "                           pt2             /homelocal/zreszela/workspace/sardana/src/sardana/macroserver/macros/examples/parameters.py\n",
      "                           pt3             /homelocal/zreszela/workspace/sardana/src/sardana/macroserver/macros/examples/parameters.py\n",
      "                          pt3d             /homelocal/zreszela/workspace/sardana/src/sardana/macroserver/macros/examples/parameters.py\n",
      "                           pt4             /homelocal/zreszela/workspace/sardana/src/sardana/macroserver/macros/examples/parameters.py\n",
      "                           pt5             /homelocal/zreszela/workspace/sardana/src/sardana/macroserver/macros/examples/parameters.py\n",
      "                           pt6             /homelocal/zreszela/workspace/sardana/src/sardana/macroserver/macros/examples/parameters.py\n",
      "                           pt7             /homelocal/zreszela/workspace/sardana/src/sardana/macroserver/macros/examples/parameters.py\n",
      "                         pt7d1             /homelocal/zreszela/workspace/sardana/src/sardana/macroserver/macros/examples/parameters.py\n",
      "                         pt7d2             /homelocal/zreszela/workspace/sardana/src/sardana/macroserver/macros/examples/parameters.py\n",
      "                           pt8             /homelocal/zreszela/workspace/sardana/src/sardana/macroserver/macros/examples/parameters.py\n",
      "                           pt9             /homelocal/zreszela/workspace/sardana/src/sardana/macroserver/macros/examples/parameters.py\n",
      "                           put                   /homelocal/zreszela/workspace/sardana/src/sardana/macroserver/macros/communication.py\n",
      "                           pwa                        /homelocal/zreszela/workspace/sardana/src/sardana/macroserver/macros/standard.py\n",
      "                           pwm                        /homelocal/zreszela/workspace/sardana/src/sardana/macroserver/macros/standard.py\n",
      "                        r2scan                            /homelocal/zreszela/workspace/sardana/src/sardana/macroserver/macros/scan.py\n",
      "                        r3scan                            /homelocal/zreszela/workspace/sardana/src/sardana/macroserver/macros/scan.py\n",
      "               raise_exception                  /homelocal/zreszela/workspace/sardana/src/sardana/macroserver/macros/examples/debug.py\n",
      "                    read_ioreg                      /homelocal/zreszela/workspace/sardana/src/sardana/macroserver/macros/ioregister.py\n"
     ]
    },
    {
     "name": "stdout",
     "output_type": "stream",
     "text": [
      "                    relctrlcls                          /homelocal/zreszela/workspace/sardana/src/sardana/macroserver/macros/expert.py\n",
      "                    relctrllib                          /homelocal/zreszela/workspace/sardana/src/sardana/macroserver/macros/expert.py\n",
      "                        rellib                          /homelocal/zreszela/workspace/sardana/src/sardana/macroserver/macros/expert.py\n",
      "                        relmac                          /homelocal/zreszela/workspace/sardana/src/sardana/macroserver/macros/expert.py\n",
      "                     relmaclib                          /homelocal/zreszela/workspace/sardana/src/sardana/macroserver/macros/expert.py\n",
      "                    renameelem                          /homelocal/zreszela/workspace/sardana/src/sardana/macroserver/macros/expert.py\n",
      "                        repeat                        /homelocal/zreszela/workspace/sardana/src/sardana/macroserver/macros/standard.py\n",
      "                        report                        /homelocal/zreszela/workspace/sardana/src/sardana/macroserver/macros/standard.py\n",
      "                         rscan                            /homelocal/zreszela/workspace/sardana/src/sardana/macroserver/macros/scan.py\n",
      "                       runsubs              /homelocal/zreszela/workspace/sardana/src/sardana/macroserver/macros/examples/submacros.py\n",
      "                      sar_demo                            /homelocal/zreszela/workspace/sardana/src/sardana/macroserver/macros/demo.py\n",
      "                  sar_demo_hkl                            /homelocal/zreszela/workspace/sardana/src/sardana/macroserver/macros/demo.py\n",
      "                      sar_info                          /homelocal/zreszela/workspace/sardana/src/sardana/macroserver/macros/expert.py\n",
      "                   savecrystal                             /homelocal/zreszela/workspace/sardana/src/sardana/macroserver/macros/hkl.py\n",
      "                      scanhist                            /homelocal/zreszela/workspace/sardana/src/sardana/macroserver/macros/scan.py\n",
      "                     scanstats                            /homelocal/zreszela/workspace/sardana/src/sardana/macroserver/macros/scan.py\n",
      "                     send2ctrl                          /homelocal/zreszela/workspace/sardana/src/sardana/macroserver/macros/expert.py\n",
      "                          senv                             /homelocal/zreszela/workspace/sardana/src/sardana/macroserver/macros/env.py\n",
      "                      sequence                        /homelocal/zreszela/workspace/sardana/src/sardana/macroserver/macros/sequence.py\n",
      "                       set_lim                        /homelocal/zreszela/workspace/sardana/src/sardana/macroserver/macros/standard.py\n",
      "                        set_lm                        /homelocal/zreszela/workspace/sardana/src/sardana/macroserver/macros/standard.py\n",
      "                      set_meas                         /homelocal/zreszela/workspace/sardana/src/sardana/macroserver/macros/expconf.py\n",
      "                 set_meas_conf                         /homelocal/zreszela/workspace/sardana/src/sardana/macroserver/macros/expconf.py\n",
      "                       set_pos                        /homelocal/zreszela/workspace/sardana/src/sardana/macroserver/macros/standard.py\n",
      "                  set_user_pos                        /homelocal/zreszela/workspace/sardana/src/sardana/macroserver/macros/standard.py\n",
      "                         setaz                             /homelocal/zreszela/workspace/sardana/src/sardana/macroserver/macros/hkl.py\n",
      "                        setlat                             /homelocal/zreszela/workspace/sardana/src/sardana/macroserver/macros/hkl.py\n",
      "                       setmode                             /homelocal/zreszela/workspace/sardana/src/sardana/macroserver/macros/hkl.py\n",
      "                        setor0                             /homelocal/zreszela/workspace/sardana/src/sardana/macroserver/macros/hkl.py\n",
      "                        setor1                             /homelocal/zreszela/workspace/sardana/src/sardana/macroserver/macros/hkl.py\n",
      "                        setorn                             /homelocal/zreszela/workspace/sardana/src/sardana/macroserver/macros/hkl.py\n",
      "                      settimer                        /homelocal/zreszela/workspace/sardana/src/sardana/macroserver/macros/standard.py\n",
      "                         setvo                             /homelocal/zreszela/workspace/sardana/src/sardana/macroserver/macros/env.py\n",
      "                          subm              /homelocal/zreszela/workspace/sardana/src/sardana/macroserver/macros/examples/submacros.py\n",
      "                       subsubm              /homelocal/zreszela/workspace/sardana/src/sardana/macroserver/macros/examples/submacros.py\n",
      "                         th2th                             /homelocal/zreszela/workspace/sardana/src/sardana/macroserver/macros/hkl.py\n",
      "                      timescan                            /homelocal/zreszela/workspace/sardana/src/sardana/macroserver/macros/scan.py\n",
      "               toothedtriangle                  /homelocal/zreszela/workspace/sardana/src/sardana/macroserver/macros/examples/scans.py\n",
      "                            tw                        /homelocal/zreszela/workspace/sardana/src/sardana/macroserver/macros/standard.py\n",
      "                         twice             /homelocal/zreszela/workspace/sardana/src/sardana/macroserver/macros/examples/parameters.py\n",
      "                           ubr                             /homelocal/zreszela/workspace/sardana/src/sardana/macroserver/macros/hkl.py\n",
      "                           uct                        /homelocal/zreszela/workspace/sardana/src/sardana/macroserver/macros/standard.py\n",
      "                udef_discr_pos                        /homelocal/zreszela/workspace/sardana/src/sardana/macroserver/macros/discrete.py\n",
      "                      udefctrl                          /homelocal/zreszela/workspace/sardana/src/sardana/macroserver/macros/expert.py\n",
      "                      udefelem                          /homelocal/zreszela/workspace/sardana/src/sardana/macroserver/macros/expert.py\n",
      "                        udefgh                             /homelocal/zreszela/workspace/sardana/src/sardana/macroserver/macros/env.py\n",
      "                      udefmeas                          /homelocal/zreszela/workspace/sardana/src/sardana/macroserver/macros/expert.py\n",
      "                      udefsnap                         /homelocal/zreszela/workspace/sardana/src/sardana/macroserver/macros/expconf.py\n",
      "                           umv                        /homelocal/zreszela/workspace/sardana/src/sardana/macroserver/macros/standard.py\n",
      "                          umvr                        /homelocal/zreszela/workspace/sardana/src/sardana/macroserver/macros/standard.py\n",
      "                         usenv                             /homelocal/zreszela/workspace/sardana/src/sardana/macroserver/macros/env.py\n",
      "                        usetvo                             /homelocal/zreszela/workspace/sardana/src/sardana/macroserver/macros/env.py\n",
      "                            wa                        /homelocal/zreszela/workspace/sardana/src/sardana/macroserver/macros/standard.py\n",
      "                            wh                             /homelocal/zreszela/workspace/sardana/src/sardana/macroserver/macros/hkl.py\n",
      "                         where                        /homelocal/zreszela/workspace/sardana/src/sardana/macroserver/macros/standard.py\n",
      "                            wm                        /homelocal/zreszela/workspace/sardana/src/sardana/macroserver/macros/standard.py\n",
      "                   write_ioreg                      /homelocal/zreszela/workspace/sardana/src/sardana/macroserver/macros/ioregister.py\n",
      "                            wu                        /homelocal/zreszela/workspace/sardana/src/sardana/macroserver/macros/standard.py\n",
      "                           wum                        /homelocal/zreszela/workspace/sardana/src/sardana/macroserver/macros/standard.py\n",
      "                       xas_acq   /homelocal/zreszela/workspace/sardana/src/sardana/macroserver/macros/examples/specific_experiments.py\n"
     ]
    }
   ],
   "source": [
    "lsmac"
   ]
  },
  {
   "cell_type": "code",
   "execution_count": 2,
   "metadata": {},
   "outputs": [
    {
     "data": {
      "application/vnd.jupyter.widget-view+json": {
       "model_id": "635a7940fa474e3ca0f188bd5ef7f34c",
       "version_major": 2,
       "version_minor": 0
      },
      "text/plain": [
       "FloatProgress(value=0.0, bar_style='info', description='Progress:')"
      ]
     },
     "metadata": {},
     "output_type": "display_data"
    },
    {
     "name": "stdout",
     "output_type": "stream",
     "text": [
      "Configuration changed\n",
      "getTimerName() is deprecated since 3.0.3. Global measurement group timer does not exist.\n",
      "getTimerName() is deprecated since 3.0.3. Global measurement group timer does not exist.\n",
      "Read error\n",
      "Read error\n",
      "Configuration changed\n",
      "getTimerName() is deprecated since 3.0.3. Global measurement group timer does not exist.\n",
      "Configuration changed\n",
      "getTimerName() is deprecated since 3.0.3. Global measurement group timer does not exist.\n",
      "  Active         Name   Timer Experim. channels                                          \n",
      " -------- ----------- ------- -----------------------------------------------------------\n",
      "            mntgrp001    ct01 ct01                                                       \n",
      "            mntgrp101   ct101 ct101, ct102, ct103, ct104, ct105, ct106, ct107, ct108,    \n",
      "                              ct109, ct110, oned01, twod01                               \n",
      "              test_0d    ct01 ct01, zerod01                                              \n"
     ]
    }
   ],
   "source": [
    "lsmeas"
   ]
  },
  {
   "cell_type": "code",
   "execution_count": 3,
   "metadata": {},
   "outputs": [
    {
     "data": {
      "application/vnd.jupyter.widget-view+json": {
       "model_id": "0878e16632794c51a6977c563f9aeded",
       "version_major": 2,
       "version_minor": 0
      },
      "text/plain": [
       "FloatProgress(value=0.0, bar_style='info', description='Progress:')"
      ]
     },
     "metadata": {},
     "output_type": "display_data"
    }
   ],
   "source": [
    "set_meas mntgrp001"
   ]
  },
  {
   "cell_type": "code",
   "execution_count": 4,
   "metadata": {},
   "outputs": [
    {
     "data": {
      "application/vnd.jupyter.widget-view+json": {
       "model_id": "33bc45e33b844511bba191bf6af2728c",
       "version_major": 2,
       "version_minor": 0
      },
      "text/plain": [
       "FloatProgress(value=0.0, bar_style='info', description='Progress:')"
      ]
     },
     "metadata": {},
     "output_type": "display_data"
    },
    {
     "name": "stdout",
     "output_type": "stream",
     "text": [
      "ActiveMntGrp = mntgrp001\n",
      "   Channel   Enabled   PlotType   PlotAxes\n",
      " --------- --------- ---------- ----------\n",
      "      ct01      True         No        n/a\n"
     ]
    }
   ],
   "source": [
    "get_meas_conf"
   ]
  },
  {
   "cell_type": "code",
   "execution_count": 7,
   "metadata": {},
   "outputs": [
    {
     "data": {
      "application/vnd.jupyter.widget-view+json": {
       "model_id": "aa1284700aee4398be14dea26fcc0955",
       "version_major": 2,
       "version_minor": 0
      },
      "text/plain": [
       "FloatProgress(value=0.0, bar_style='info', description='Progress:')"
      ]
     },
     "metadata": {},
     "output_type": "display_data"
    },
    {
     "name": "stdout",
     "output_type": "stream",
     "text": [
      "getTimer() is deprecated since 3.0.3. Global measurement group timer does not exist\n",
      "ExtraColumns is not defined\n",
      "JsonRecorder is not defined. Use \"senv JsonRecorder True\" to enable it\n",
      "ScanDir is not defined. This operation will not be stored persistently. Use \"expconf\" or \"newfile\" to configure data storage (or eventually \"senv ScanDir <abs directory>\")\n",
      "SharedMemory is not defined. Use \"senv SharedMemory sps\" to enable it\n",
      "Scan #3 started at Thu Oct  7 13:24:36 2021. It will take at least 0:00:01.217727\n",
      " #Pt No    mot01      ct01       dt   \n",
      "   0         0        0.1     0.0670974\n",
      "   1        0.1       0.1     0.269033\n",
      "   2        0.2       0.1     0.477104\n",
      "   3        0.3       0.1     0.665754\n",
      "   4        0.4       0.1     0.865775\n",
      "   5        0.5       0.1     1.08907 \n",
      "   6        0.6       0.1     1.31858 \n",
      "   7        0.7       0.1     1.54018 \n",
      "An error occurred while running ascan:\n",
      "UnboundLocalError: local variable 'endstatus' referenced before assignment\n",
      "Hint: in Spock execute `www`to get more details\n"
     ]
    }
   ],
   "source": [
    "ascan mot01 0 1 10 0.1"
   ]
  },
  {
   "cell_type": "code",
   "execution_count": 8,
   "metadata": {},
   "outputs": [
    {
     "data": {
      "application/vnd.jupyter.widget-view+json": {
       "model_id": "2e80a1eaabcb47f3ad5e2cf2866b77a7",
       "version_major": 2,
       "version_minor": 0
      },
      "text/plain": [
       "FloatProgress(value=0.0, bar_style='info', description='Progress:')"
      ]
     },
     "metadata": {},
     "output_type": "display_data"
    }
   ],
   "source": [
    "twice 2"
   ]
  },
  {
   "cell_type": "code",
   "execution_count": null,
   "metadata": {},
   "outputs": [],
   "source": []
  }
 ],
 "metadata": {
  "kernelspec": {
   "display_name": "Python 3 (ipykernel)",
   "language": "python",
   "name": "python3"
  },
  "language_info": {
   "codemirror_mode": {
    "name": "ipython",
    "version": 3
   },
   "file_extension": ".py",
   "mimetype": "text/x-python",
   "name": "python",
   "nbconvert_exporter": "python",
   "pygments_lexer": "ipython3",
   "version": "3.9.7"
  },
  "widgets": {
   "state": {
    "61709fc94da743118f20c59a1c292fef": {
     "views": [
      {
       "cell_index": 4
      }
     ]
    }
   },
   "version": "1.2.0"
  }
 },
 "nbformat": 4,
 "nbformat_minor": 2
}
