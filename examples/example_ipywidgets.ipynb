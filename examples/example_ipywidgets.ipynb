{
 "cells": [
  {
   "cell_type": "code",
   "execution_count": 1,
   "id": "caded67d",
   "metadata": {},
   "outputs": [],
   "source": [
    "from ipywidgets import interact, interactive, fixed, interact_manual\n",
    "import ipywidgets as widgets"
   ]
  },
  {
   "cell_type": "code",
   "execution_count": 2,
   "id": "76b78f40",
   "metadata": {},
   "outputs": [],
   "source": [
    "def f(x):\n",
    "    return x"
   ]
  },
  {
   "cell_type": "code",
   "execution_count": 3,
   "id": "d3b99315",
   "metadata": {},
   "outputs": [
    {
     "data": {
      "application/vnd.jupyter.widget-view+json": {
       "model_id": "c442d0b112b641c5a028ceae3375e7c4",
       "version_major": 2,
       "version_minor": 0
      },
      "text/plain": [
       "interactive(children=(IntSlider(value=10, description='x', max=30, min=-10), Output()), _dom_classes=('widget-…"
      ]
     },
     "metadata": {},
     "output_type": "display_data"
    }
   ],
   "source": [
    "interact(f, x=10);"
   ]
  },
  {
   "cell_type": "code",
   "execution_count": null,
   "id": "dc4f7672",
   "metadata": {},
   "outputs": [
    {
     "data": {
      "application/vnd.jupyter.widget-view+json": {
       "model_id": "0a431bb6e1c441ceb4c0ccb75615c409",
       "version_major": 2,
       "version_minor": 0
      },
      "text/plain": [
       "FloatProgress(value=0.0, bar_style='info', description='Progress:')"
      ]
     },
     "metadata": {},
     "output_type": "display_data"
    },
    {
     "name": "stdout",
     "output_type": "stream",
     "text": [
      "getTimer() is deprecated since 3.0.3. Global measurement group timer does not exist\n",
      "ExtraColumns is not defined\n",
      "ScanDir is not defined. This operation will not be stored persistently. Use \"expconf\" or \"newfile\" to configure data storage (or eventually \"senv ScanDir <abs directory>\")\n",
      "SharedMemory is not defined. Use \"senv SharedMemory sps\" to enable it\n",
      "Scan #100 started at Mon Nov 15 12:07:40 2021. It will take at least 0:00:07.916108\n",
      " #Pt No    mot19     mot21      ct17      ct21      ct22      ct23       dt   \n",
      "   0         1         4        0.1       0.2       0.3       0.4      1.3518 \n",
      "   1      1.93333     5.4       0.1       0.2       0.3       0.4     1.84527 \n",
      "   2      2.86667     6.8       0.1       0.2       0.3       0.4     2.32332 \n",
      "   3        3.8       8.2       0.1       0.2       0.3       0.4     2.79352 \n",
      "   4      4.73333     9.6       0.1       0.2       0.3       0.4     3.27134 \n",
      "   5      5.66667      11       0.1       0.2       0.3       0.4     3.74069 \n",
      "   6        6.6       12.4      0.1       0.2       0.3       0.4     4.21516 \n",
      "   7      7.53333     13.8      0.1       0.2       0.3       0.4     4.69335 \n",
      "   8      8.46667     15.2      0.1       0.2       0.3       0.4     5.17096 \n",
      "   9        9.4       16.6      0.1       0.2       0.3       0.4     5.65007 \n",
      "   10     10.3333      18       0.1       0.2       0.3       0.4     6.13412 \n",
      "   11     11.2667     19.4      0.1       0.2       0.3       0.4     6.60515 \n",
      "   12       12.2      20.8      0.1       0.2       0.3       0.4      7.0844 \n",
      "   13     13.1333     22.2      0.1       0.2       0.3       0.4      7.5513 \n",
      "   14     14.0667     23.6      0.1       0.2       0.3       0.4     8.02267 \n",
      "   15        15        25       0.1       0.2       0.3       0.4     8.50348 \n",
      "Scan #100 ended at Mon Nov 15 12:07:49 2021, taking 0:00:08.638319. Dead time 81.2% (setup time 0.3%, motion dead time 76.3%)\n"
     ]
    }
   ],
   "source": [
    " interactive(children=(Checkbox(value=True, description='x'), Output()), _dom_classes=('widget-interact',))"
   ]
  },
  {
   "cell_type": "code",
   "execution_count": 1,
   "id": "e716c3e3-0cdd-478e-b0a3-43af7ae76d5c",
   "metadata": {},
   "outputs": [
    {
     "data": {
      "application/vnd.jupyter.widget-view+json": {
       "model_id": "a1947452d26e4bceb5fdf708c17e7a1a",
       "version_major": 2,
       "version_minor": 0
      },
      "text/plain": [
       "FloatProgress(value=0.0, bar_style='info', description='Progress:')"
      ]
     },
     "metadata": {},
     "output_type": "display_data"
    },
    {
     "name": "stdout",
     "output_type": "stream",
     "text": [
      "Configuration changed\n",
      "getTimer() is deprecated since 3.0.3. Global measurement group timer does not exist\n",
      "ExtraColumns is not defined\n",
      "ScanDir is not defined. This operation will not be stored persistently. Use \"expconf\" or \"newfile\" to configure data storage (or eventually \"senv ScanDir <abs directory>\")\n",
      "SharedMemory is not defined. Use \"senv SharedMemory sps\" to enable it\n",
      "Scan #105 started at Tue Nov 16 09:14:39 2021. It will take at least 0:00:07.916108\n",
      " #Pt No    mot19     mot21      ct17      ct21      ct22      ct23       dt   \n",
      "   0         1         4        0.1       0.2       0.3       0.4     1.40356 \n",
      "   1      1.93333     5.4       0.1       0.2       0.3       0.4     1.89781 \n",
      "   2      2.86667     6.8       0.1       0.2       0.3       0.4     2.38513 \n",
      "   3        3.8       8.2       0.1       0.2       0.3       0.4      2.8758 \n",
      "   4      4.73333     9.6       0.1       0.2       0.3       0.4     3.35527 \n",
      "   5      5.66667      11       0.1       0.2       0.3       0.4     3.83246 \n",
      "   6        6.6       12.4      0.1       0.2       0.3       0.4     4.30914 \n",
      "   7      7.53333     13.8      0.1       0.2       0.3       0.4     4.78709 \n",
      "   8      8.46667     15.2      0.1       0.2       0.3       0.4     5.25695 \n",
      "   9        9.4       16.6      0.1       0.2       0.3       0.4     5.73645 \n",
      "   10     10.3333      18       0.1       0.2       0.3       0.4     6.21429 \n",
      "   11     11.2667     19.4      0.1       0.2       0.3       0.4     6.69377 \n",
      "   12       12.2      20.8      0.1       0.2       0.3       0.4     7.16515 \n",
      "   13     13.1333     22.2      0.1       0.2       0.3       0.4      7.6409 \n",
      "   14     14.0667     23.6      0.1       0.2       0.3       0.4     8.11305 \n",
      "   15        15        25       0.1       0.2       0.3       0.4     8.59041 \n",
      "Scan #105 ended at Tue Nov 16 09:14:48 2021, taking 0:00:08.715370. Dead time 81.0% (setup time 0.6%, motion dead time 75.7%)\n"
     ]
    }
   ],
   "source": [
    "%a2scan mot19 1 15 mot21 4 25 15 0.1"
   ]
  },
  {
   "cell_type": "code",
   "execution_count": null,
   "id": "6139921a",
   "metadata": {},
   "outputs": [],
   "source": []
  }
 ],
 "metadata": {
  "kernelspec": {
   "display_name": "Sardana Kernel",
   "language": "python",
   "name": "sardana_kernel"
  },
  "language_info": {
   "codemirror_mode": {
    "name": "ipython",
    "version": 3
   },
   "file_extension": ".py",
   "mimetype": "text/x-python",
   "name": "python",
   "nbconvert_exporter": "python",
   "pygments_lexer": "ipython3",
   "version": "3.9.7"
  }
 },
 "nbformat": 4,
 "nbformat_minor": 5
}
