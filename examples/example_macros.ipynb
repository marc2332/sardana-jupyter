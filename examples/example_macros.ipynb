{
 "cells": [
  {
   "cell_type": "markdown",
   "metadata": {
    "tags": []
   },
   "source": [
    "# Welcome to sardana-jupyter!"
   ]
  },
  {
   "cell_type": "markdown",
   "metadata": {},
   "source": [
    "In this example netebook we will guide you on how to use the sardana-jupyter."
   ]
  },
  {
   "cell_type": "markdown",
   "metadata": {},
   "source": [
    "First, let's see which Pool elements you have available?"
   ]
  },
  {
   "cell_type": "code",
   "execution_count": null,
   "metadata": {},
   "outputs": [],
   "source": [
    "lsa"
   ]
  },
  {
   "cell_type": "markdown",
   "metadata": {},
   "source": [
    "If the `lsa` macro returned none elements, it means that either: \n",
    "1. You have not connected your MacroServer to any Pool \n",
    "2. There are no elements defined in your Pool\n",
    "\n",
    "In the first case, you should probably read the [Configuration](https://gitlab.com/sardana-org/sardana-jupyter#configuration) docs.\n",
    "\n",
    "In the second case you could run the `sar_demo` macro to populate your Pool with simulated elements."
   ]
  },
  {
   "cell_type": "code",
   "execution_count": null,
   "metadata": {},
   "outputs": [],
   "source": [
    "sar_demo"
   ]
  },
  {
   "cell_type": "markdown",
   "metadata": {},
   "source": [
    "Since now you have your elements, you could try to move one of the motors and check its position before and after the move."
   ]
  },
  {
   "cell_type": "code",
   "execution_count": null,
   "metadata": {},
   "outputs": [],
   "source": [
    "wm mot01"
   ]
  },
  {
   "cell_type": "code",
   "execution_count": null,
   "metadata": {},
   "outputs": [],
   "source": [
    "mv mot01 100"
   ]
  },
  {
   "cell_type": "code",
   "execution_count": null,
   "metadata": {},
   "outputs": [],
   "source": [
    "wm mot01"
   ]
  },
  {
   "cell_type": "markdown",
   "metadata": {},
   "source": [
    "Let's try something more complicated - [a scan](https://www.sardana-controls.org/users/scan.html):"
   ]
  },
  {
   "cell_type": "code",
   "execution_count": null,
   "metadata": {},
   "outputs": [],
   "source": [
    "ascan mot01 0 10 10 0.1"
   ]
  },
  {
   "cell_type": "markdown",
   "metadata": {},
   "source": [
    "You should be able to see how the scan records are being printed on the cell output. But the cool thing is that the scan records can be plotted online while scanning! In order to try it you will need to set some basic scanning configuration in the measurement group, let's print the configuration before and after you change it:"
   ]
  },
  {
   "cell_type": "code",
   "execution_count": null,
   "metadata": {},
   "outputs": [],
   "source": [
    "get_meas_conf"
   ]
  },
  {
   "cell_type": "code",
   "execution_count": null,
   "metadata": {},
   "outputs": [],
   "source": [
    "set_meas_conf PlotType Spectrum"
   ]
  },
  {
   "cell_type": "code",
   "execution_count": null,
   "metadata": {},
   "outputs": [],
   "source": [
    "set_meas_conf PlotAxes <mov>"
   ]
  },
  {
   "cell_type": "code",
   "execution_count": null,
   "metadata": {},
   "outputs": [],
   "source": [
    "get_meas_conf"
   ]
  },
  {
   "cell_type": "markdown",
   "metadata": {},
   "source": [
    "The last thing is to enable the _JsonRecorder_ that will communicate the scan records to the plotting widget:"
   ]
  },
  {
   "cell_type": "code",
   "execution_count": null,
   "metadata": {},
   "outputs": [],
   "source": [
    "senv JsonRecorder True"
   ]
  },
  {
   "cell_type": "markdown",
   "metadata": {},
   "source": [
    "Now, let's repeat the scan and enjoy the plot!"
   ]
  },
  {
   "cell_type": "code",
   "execution_count": 2,
   "metadata": {},
   "outputs": [
    {
     "data": {
      "application/vnd.jupyter.widget-view+json": {
       "model_id": "4c82ab06742246c892eb8c5e92bc45e9",
       "version_major": 2,
       "version_minor": 0
      },
      "text/plain": [
       "FloatProgress(value=0.0, bar_style='info', description='Progress:')"
      ]
     },
     "metadata": {},
     "output_type": "display_data"
    },
    {
     "name": "stdout",
     "output_type": "stream",
     "text": [
      "ScanDir is not defined. This operation will not be stored persistently. Use \"expconf\" or \"newfile\" to configure data storage (or eventually \"senv ScanDir <abs directory>\")\n",
      "Scan #56 started at Tue Mar  1 10:55:44 2022. It will take at least 0:00:04.822854\n"
     ]
    },
    {
     "data": {
      "text/html": [
       "\n",
       "        <iframe\n",
       "            width=\"100%\"\n",
       "            height=\"650\"\n",
       "            src=\"http://127.0.0.1:8050/\"\n",
       "            frameborder=\"0\"\n",
       "            allowfullscreen\n",
       "            \n",
       "        ></iframe>\n",
       "        "
      ],
      "text/plain": [
       "<IPython.lib.display.IFrame at 0x7febe06504c0>"
      ]
     },
     "metadata": {},
     "output_type": "display_data"
    },
    {
     "name": "stdout",
     "output_type": "stream",
     "text": [
      " #Pt No    mot45      ct44      ct45      ct46      ct47       dt   \n",
      "   0         0        0.1       0.2       0.3       0.4     6.79571 \n",
      "   1         1        0.1       0.2       0.3       0.4     7.22816 \n",
      "   2         2        0.1       0.2       0.3       0.4     7.65615 \n",
      "   3         3        0.1       0.2       0.3       0.4     8.15046 \n",
      "   4         4        0.1       0.2       0.3       0.4     8.57536 \n",
      "   5         5        0.1       0.2       0.3       0.4     8.98017 \n",
      "   6         6        0.1       0.2       0.3       0.4     9.44691 \n",
      "   7         7        0.1       0.2       0.3       0.4      9.8629 \n",
      "   8         8        0.1       0.2       0.3       0.4      10.281 \n",
      "   9         9        0.1       0.2       0.3       0.4     10.6924 \n",
      "   10        10       0.1       0.2       0.3       0.4     11.1154 \n",
      "Scan #56 ended at Tue Mar  1 10:55:55 2022, taking 0:00:11.236820. Dead time 88.8% (setup time 1.4%, motion dead time 34.8%)\n"
     ]
    }
   ],
   "source": [
    "ascan mot45 0 10 10 0.1"
   ]
  },
  {
   "cell_type": "code",
   "execution_count": null,
   "metadata": {},
   "outputs": [],
   "source": []
  }
 ],
 "metadata": {
  "kernelspec": {
   "display_name": "Sardana Kernel",
   "language": "python",
   "name": "sardana_kernel"
  },
  "language_info": {
   "codemirror_mode": {
    "name": "ipython",
    "version": 3
   },
   "file_extension": ".py",
   "mimetype": "text/x-python",
   "name": "python",
   "nbconvert_exporter": "python",
   "pygments_lexer": "ipython3",
   "version": "3.9.7"
  },
  "widgets": {
   "state": {
    "61709fc94da743118f20c59a1c292fef": {
     "views": [
      {
       "cell_index": 4
      }
     ]
    }
   },
   "version": "1.2.0"
  }
 },
 "nbformat": 4,
 "nbformat_minor": 4
}
