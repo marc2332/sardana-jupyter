{
 "cells": [
  {
   "cell_type": "code",
   "execution_count": 2,
   "metadata": {
    "scrolled": true
   },
   "outputs": [
    {
     "data": {
      "application/vnd.jupyter.widget-view+json": {
       "model_id": "a0bbe82828284276b2ad857928d8fe27",
       "version_major": 2,
       "version_minor": 0
      },
      "text/plain": [
       "FloatProgress(value=0.0, bar_style='info', description='Progress:')"
      ]
     },
     "metadata": {},
     "output_type": "display_data"
    },
    {
     "name": "stdout",
     "output_type": "stream",
     "text": [
      "                 Name          Module Brief Description                                             \n",
      " -------------------- --------------- --------------------------------------------------------------\n",
      "               a2scan            scan      two-motor scan.     a2scan scans two motors, as sp[...]  \n",
      "              a2scanc            scan two-motor continuous scan                                     \n",
      "             a2scanct            scan Two-motor continuous scan.     a2scanct scans two motor[...]  \n",
      "               a3scan            scan three-motor scan .     a3scan scans three motors, as sp[...]  \n",
      "              a3scanc            scan three-motor continuous scan                                   \n",
      "             a3scanct            scan Three-motor continuous scan.     a2scanct scans three m[...]  \n",
      "               a4scan            scan four-motor scan .     a4scan scans four motors, as spec[...]  \n",
      "              a4scanc            scan four-motor continuous scan                                    \n",
      "             a4scanct            scan Four-motor continuous scan.     a2scanct scans four mot[...]  \n",
      "           addctrllib          expert Adds the given controller library code to the pool serv[...]  \n",
      "            addmaclib          expert Loads a new macro library.      .. warning:: Keep in mi[...]  \n",
      "        addreflection             hkl  Add reflection at the botton of reflections list             \n",
      "               affine             hkl Affine current crystal.     Fine tunning of lattice par[...]  \n",
      "           amultiscan            scan      Multiple motor scan.     amultiscan scans N motors[...]  \n",
      "                ascan            scan      Do an absolute scan of the specified motor.     as[...]  \n",
      "               ascanc            scan Do an absolute continuous scan of the specified motor. [...]  \n",
      "              ascanct            scan Do an absolute continuous scan of the specified motor. [...]  \n",
      "               ascanh            scan Do an absolute scan of the specified motor.     ascan s[...]  \n",
      "                   br             hkl Move the diffractometer to the reciprocal space coordin[...]  \n",
      "                   ca             hkl Calculate motor positions for given H K L according to [...]  \n",
      "                  caa             hkl Calculate motor positions for given H K L according to [...]  \n",
      "                  cen        standard This macro moves the motor of the last scan to the CEN [...]  \n",
      "                   ci             hkl  Calculate hkl for given angle values                         \n",
      "       clear_sar_demo            demo Undoes changes done with sar_demo                             \n",
      "   clear_sar_demo_hkl            demo Undoes changes done with sar_demo                             \n",
      "       commit_ctrllib          expert Puts the contents of the given data in a file inside th[...]  \n",
      "            computeub             hkl  Compute UB matrix with reflections 0 and 1                   \n",
      "                   ct        standard Count for the specified time on the measurement group  [...]  \n",
      "               d2scan            scan two-motor scan relative to the starting position.     d[...]  \n",
      "              d2scanc            scan continuous two-motor scan relative to the starting posi[...]  \n",
      "             d2scanct            scan continuous two-motor scan relative to the starting posi[...]  \n",
      "               d3scan            scan three-motor scan .     d3scan scans three motors, as sp[...]  \n",
      "              d3scanc            scan continuous three-motor scan                                   \n",
      "             d3scanct            scan continuous three-motor scan relative to the starting po[...]  \n",
      "               d4scan            scan four-motor scan relative to the starting positions     [...]  \n",
      "              d4scanc            scan continuous four-motor scan relative to the starting pos[...]  \n",
      "             d4scanct            scan continuous four-motor scan relative to the starting pos[...]  \n",
      "        def_discr_pos        discrete      Define a (calibrated) point for a discrete pseudom[...]  \n",
      "              defctrl          expert Creates a new controller     'role_prop' is a sequence [...]  \n",
      "              defelem          expert Creates an element on a controller with an axis               \n",
      "                defgh             env Define general hook:      >>> defgh \"mv [[mot02 9]]\" pr[...]  \n",
      "                 defm          expert Creates a new motor in the active pool                        \n",
      "              defmeas          expert Create a new measurement group. First channel in channe[...]  \n",
      "              defsnap         expconf Define snapshot group item(s).      Accepts:      - Poo[...]  \n",
      "                dmesh            scan      2d relative grid scan.     The relative mesh scan [...]  \n",
      "               dmeshc            scan 2d relative continuous grid scan.     The relative mesh[...]  \n",
      "           dmultiscan            scan      Multiple motor scan relative to the starting posit[...]  \n",
      "                dscan            scan motor scan relative to the starting position.     dscan[...]  \n",
      "               dscanc            scan continuous motor scan relative to the starting position[...]  \n",
      "              dscanct            scan Do an a relative continuous motor scan,     dscanct sca[...]  \n",
      "              dumpenv             env Dumps the complete environment                                \n",
      "            edctrlcls          expert Returns the contents of the library file which contains[...]  \n",
      "            edctrllib          expert Returns the contents of the given library file                \n",
      "               freeze             hkl  Set psi value for psi constant modes                         \n",
      "                fscan            scan      N-dimensional scan along user defined paths.     T[...]  \n",
      "                 genv             env Gets the given environment variable                           \n",
      "                  get   communication Reads and outputs the data from the communication chann[...]  \n",
      "             get_meas         expconf Activate measurement group.      It gets the ActiveMntG[...]  \n",
      "        get_meas_conf         expconf Print measurement group configuration in form of a tabl[...]  \n",
      "              getmode             hkl Get operation mode.                                           \n",
      "              hklscan             hkl Scan h k l axes                                               \n",
      "                hscan             hkl Scan h axis                                                   \n",
      "                kscan             hkl Scan k axis                                                   \n",
      "           latticecal             hkl          Calibrate lattice parameters a, b or c to curr[...]  \n",
      "             load_env             env  Read environment variables from config_env.xml file          \n",
      "          loadcrystal             hkl           Load crystal information from file                  \n",
      "             logmacro        standard  Turn on/off logging of the spock output.      .. note:[...]  \n",
      "                 ls0d           lists Lists all 0D experiment channels                              \n",
      "                 ls1d           lists Lists all 1D experiment channels                              \n",
      "                 ls2d           lists Lists all 2D experiment channels                              \n",
      "                  lsa           lists Lists all existing objects                                    \n",
      "                lscan             hkl Scan l axis                                                   \n",
      "                lscom           lists Lists all communication channels                              \n",
      "                 lsct           lists Lists all Counter/Timers                                      \n",
      "               lsctrl           lists Lists all existing controllers                                \n",
      "            lsctrllib           lists Lists all existing controller classes                         \n",
      "                lsdef           lists List all macro definitions                                    \n",
      "                lsenv             env Lists the environment in alphabetical order                   \n",
      "                lsexp           lists Lists all experiment channels                                 \n",
      "                 lsgh             env List general hooks.      .. note::         The `lsgh` m[...]  \n"
     ]
    },
    {
     "name": "stdout",
     "output_type": "stream",
     "text": [
      "                  lsi           lists Lists all existing instruments                                \n",
      "                lsior           lists Lists all IORegisters                                         \n",
      "                  lsm           lists Lists all motors                                              \n",
      "                lsmac           lists Lists existing macros                                         \n",
      "             lsmaclib           lists Lists existing macro libraries.                               \n",
      "               lsmeas           lists List existing measurement groups                              \n",
      "                  lsp           lists Lists all pools                                               \n",
      "                 lspc           lists Lists all pseudo counters                                     \n",
      "                 lspm           lists Lists all existing motors                                     \n",
      "               lssnap         expconf List pre-scan snapshot group.                                 \n",
      "                 lstg           lists Lists all trigger/gate elements                               \n",
      "                 lsvo             env Lists the view options                                        \n",
      "               luppsi             hkl psi scan:      Relative scan psi angle      [TODO] Stil[...]  \n",
      "            mca_start             mca Starts an mca                                                 \n",
      "             mca_stop             mca Stops an mca                                                  \n",
      "                 mesh            scan 2d grid scan.     The mesh scan traces out a grid using[...]  \n",
      "                meshc            scan 2d grid scan. scans continuous                                \n",
      "               meshct            scan 2d grid scan  .     The mesh scan traces out a grid usi[...]  \n",
      "               mstate        standard Prints the state of a motor                                   \n",
      "                   mv        standard Move motor(s) to the specified position(s)                    \n",
      "                  mvr        standard Move motor(s) relative to the current position(s)             \n",
      "           newcrystal             hkl  Create a new crystal (if it does not exist) and select[...]  \n",
      "              newfile        standard  Sets the ScanDir and ScanFile as well as ScanID in the[...]  \n",
      "                  or0             hkl Set primary orientation reflection.                           \n",
      "                  or1             hkl Set secondary orientation reflection.                         \n",
      "               orswap             hkl Swap values for primary and secondary vectors.                \n",
      "                   pa             hkl Prints information about the active diffractometer.           \n",
      "                  pic        standard This macro moves the motor of the last scan to the PEAK[...]  \n",
      "           plotselect        standard select channels for plotting in the active measurement [...]  \n",
      "                prdef          expert Returns the the macro code for the given macro name.          \n",
      "          prdef_discr        discrete      Print discrete pseudomotor configuration.      .. [...]  \n",
      "                  put   communication Sends a string to the communication channel                   \n",
      "                  pwa        standard Show all motor positions in a pretty table                    \n",
      "                  pwm        standard Show the position of the specified motors in a pretty t[...]  \n",
      "               r2scan            scan r2scan.     Do an absolute scan of the specified motors[...]  \n",
      "               r3scan            scan r3scan.     Do an absolute scan of the specified motors[...]  \n",
      "           read_ioreg      ioregister Reads an output register                                      \n",
      "           relctrlcls          expert Reloads the given controller class code from the pool s[...]  \n",
      "           relctrllib          expert Reloads the given controller library code from the pool[...]  \n",
      "               rellib          expert Reloads the given python library code from the macro se[...]  \n",
      "               relmac          expert Reloads the given macro code from the macro server file[...]  \n",
      "            relmaclib          expert Reloads the given macro library code from the macro ser[...]  \n",
      "           renameelem          expert Renames any type of Pool elements apart of Pools.             \n",
      "               repeat        standard This macro executes as many repetitions of a set of mac[...]  \n",
      "               report        standard Logs a new record into the message report system (if ac[...]  \n",
      "                rscan            scan rscan.     Do an absolute scan of the specified motor w[...]  \n",
      "             sar_demo            demo Sets up a demo environment. It creates many elements fo[...]  \n",
      "         sar_demo_hkl            demo Sets up a demo environment. It creates many elements fo[...]  \n",
      "             sar_info          expert Prints details about the given sardana object                 \n",
      "          savecrystal             hkl           Save crystal information to file                    \n",
      "             scanhist            scan Shows scan history information. Give optional parameter[...]  \n",
      "            scanstats            scan Calculate basic statistics of the enabled and plotted c[...]  \n",
      "            send2ctrl          expert Sends the given data directly to the controller               \n",
      "                 senv             env Sets the given environment variable to the given value        \n",
      "             sequence        sequence This macro executes a sequence of macros. As a paramete[...]  \n",
      "              set_lim        standard Sets the software limits on the specified motor hello         \n",
      "               set_lm        standard Sets the dial limits on the specified motor                   \n",
      "             set_meas         expconf Activate measurement group.      It sets the ActiveMntG[...]  \n",
      "        set_meas_conf         expconf Set measurement group configuration parameter.      Ava[...]  \n",
      "              set_pos        standard Sets the position of the motor to the specified value         \n",
      "         set_user_pos        standard Sets the USER position of the motor to the specified va[...]  \n",
      "                setaz             hkl  Set hkl values of the psi reference vector                   \n",
      "               setlat             hkl Set the crystal lattice parameters a, b, c, alpha, beta[...]  \n",
      "              setmode             hkl Set operation mode.                                           \n",
      "               setor0             hkl Set primary orientation reflection choosing hkl and ang[...]  \n",
      "               setor1             hkl Set secondary orientation reflection choosing hkl and a[...]  \n",
      "               setorn             hkl Set orientation reflection indicated by the index.     [...]  \n",
      "             settimer        standard Defines the timer channel for the active measurement gr[...]  \n",
      "                setvo             env Sets the given view option to the given value.      Ava[...]  \n",
      "                th2th             hkl th2th - scan:      Relative scan around current positio[...]  \n",
      "             timescan            scan Do a time scan over the specified time intervals. The s[...]  \n",
      "                   tw        standard Tweak motor by variable delta                                 \n",
      "                  ubr             hkl Move the diffractometer to the reciprocal space coordin[...]  \n",
      "                  uct        standard Count on the active measurement group and update              \n",
      "       udef_discr_pos        discrete      Remove a point from a discrete pseudomotor configu[...]  \n",
      "             udefctrl          expert Deletes existing controllers                                  \n",
      "             udefelem          expert Deletes existing elements                                     \n",
      "               udefgh             env Undefine general hook. Without arguments undefine all. [...]  \n",
      "             udefmeas          expert Deletes existing measurement groups                           \n",
      "             udefsnap         expconf Undefine snapshot group item(s). Without arguments unde[...]  \n",
      "                  umv        standard Move motor(s) to the specified position(s) and update         \n",
      "                 umvr        standard Move motor(s) relative to the current position(s) and u[...]  \n"
     ]
    },
    {
     "name": "stdout",
     "output_type": "stream",
     "text": [
      "                usenv             env Unsets the given environment variable                         \n",
      "               usetvo             env Resets the value of the given view option.      Availab[...]  \n",
      "                   wa        standard Show all motor positions                                      \n",
      "                   wh             hkl Show principal axes and reciprocal space positions.    [...]  \n",
      "                where        standard This macro shows the current position of the last scann[...]  \n",
      "                   wm        standard Show the position of the specified motors.                    \n",
      "          write_ioreg      ioregister Writes a value to an input register                           \n",
      "                   wu        standard Show all user motor positions                                 \n",
      "                  wum        standard Show the user position of the specified motors.               \n"
     ]
    }
   ],
   "source": [
    "lsdef"
   ]
  },
  {
   "cell_type": "code",
   "execution_count": 2,
   "metadata": {},
   "outputs": [
    {
     "data": {
      "application/vnd.jupyter.widget-view+json": {
       "model_id": "fbc30af1ad4645ce8c6821bbe76369ff",
       "version_major": 2,
       "version_minor": 0
      },
      "text/plain": [
       "FloatProgress(value=0.0, bar_style='info', description='Progress:')"
      ]
     },
     "metadata": {},
     "output_type": "display_data"
    },
    {
     "name": "stdout",
     "output_type": "stream",
     "text": [
      "No measurementgroups defined\n"
     ]
    }
   ],
   "source": [
    "lsmeas"
   ]
  },
  {
   "cell_type": "code",
   "execution_count": 3,
   "metadata": {},
   "outputs": [
    {
     "data": {
      "application/vnd.jupyter.widget-view+json": {
       "model_id": "0878e16632794c51a6977c563f9aeded",
       "version_major": 2,
       "version_minor": 0
      },
      "text/plain": [
       "FloatProgress(value=0.0, bar_style='info', description='Progress:')"
      ]
     },
     "metadata": {},
     "output_type": "display_data"
    }
   ],
   "source": [
    "set_meas mntgrp001"
   ]
  },
  {
   "cell_type": "code",
   "execution_count": 4,
   "metadata": {},
   "outputs": [
    {
     "data": {
      "application/vnd.jupyter.widget-view+json": {
       "model_id": "33bc45e33b844511bba191bf6af2728c",
       "version_major": 2,
       "version_minor": 0
      },
      "text/plain": [
       "FloatProgress(value=0.0, bar_style='info', description='Progress:')"
      ]
     },
     "metadata": {},
     "output_type": "display_data"
    },
    {
     "name": "stdout",
     "output_type": "stream",
     "text": [
      "ActiveMntGrp = mntgrp001\n",
      "   Channel   Enabled   PlotType   PlotAxes\n",
      " --------- --------- ---------- ----------\n",
      "      ct01      True         No        n/a\n"
     ]
    }
   ],
   "source": [
    "get_meas_conf"
   ]
  },
  {
   "cell_type": "code",
   "execution_count": 7,
   "metadata": {},
   "outputs": [
    {
     "data": {
      "application/vnd.jupyter.widget-view+json": {
       "model_id": "aa1284700aee4398be14dea26fcc0955",
       "version_major": 2,
       "version_minor": 0
      },
      "text/plain": [
       "FloatProgress(value=0.0, bar_style='info', description='Progress:')"
      ]
     },
     "metadata": {},
     "output_type": "display_data"
    },
    {
     "name": "stdout",
     "output_type": "stream",
     "text": [
      "getTimer() is deprecated since 3.0.3. Global measurement group timer does not exist\n",
      "ExtraColumns is not defined\n",
      "JsonRecorder is not defined. Use \"senv JsonRecorder True\" to enable it\n",
      "ScanDir is not defined. This operation will not be stored persistently. Use \"expconf\" or \"newfile\" to configure data storage (or eventually \"senv ScanDir <abs directory>\")\n",
      "SharedMemory is not defined. Use \"senv SharedMemory sps\" to enable it\n",
      "Scan #3 started at Thu Oct  7 13:24:36 2021. It will take at least 0:00:01.217727\n",
      " #Pt No    mot01      ct01       dt   \n",
      "   0         0        0.1     0.0670974\n",
      "   1        0.1       0.1     0.269033\n",
      "   2        0.2       0.1     0.477104\n",
      "   3        0.3       0.1     0.665754\n",
      "   4        0.4       0.1     0.865775\n",
      "   5        0.5       0.1     1.08907 \n",
      "   6        0.6       0.1     1.31858 \n",
      "   7        0.7       0.1     1.54018 \n",
      "An error occurred while running ascan:\n",
      "UnboundLocalError: local variable 'endstatus' referenced before assignment\n",
      "Hint: in Spock execute `www`to get more details\n"
     ]
    }
   ],
   "source": [
    "ascan mot01 0 1 10 0.1"
   ]
  },
  {
   "cell_type": "code",
   "execution_count": 8,
   "metadata": {},
   "outputs": [
    {
     "data": {
      "application/vnd.jupyter.widget-view+json": {
       "model_id": "2e80a1eaabcb47f3ad5e2cf2866b77a7",
       "version_major": 2,
       "version_minor": 0
      },
      "text/plain": [
       "FloatProgress(value=0.0, bar_style='info', description='Progress:')"
      ]
     },
     "metadata": {},
     "output_type": "display_data"
    }
   ],
   "source": [
    "twice 2"
   ]
  },
  {
   "cell_type": "code",
   "execution_count": null,
   "metadata": {},
   "outputs": [],
   "source": []
  }
 ],
 "metadata": {
  "kernelspec": {
   "display_name": "Sardana Kernel",
   "language": "python",
   "name": "sardana_kernel"
  },
  "language_info": {
   "codemirror_mode": {
    "name": "ipython",
    "version": 3
   },
   "file_extension": ".py",
   "mimetype": "text/x-python",
   "name": "python",
   "nbconvert_exporter": "python",
   "pygments_lexer": "ipython3",
   "version": "3.9.7"
  },
  "widgets": {
   "state": {
    "61709fc94da743118f20c59a1c292fef": {
     "views": [
      {
       "cell_index": 4
      }
     ]
    }
   },
   "version": "1.2.0"
  }
 },
 "nbformat": 4,
 "nbformat_minor": 2
}
