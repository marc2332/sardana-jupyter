{
 "cells": [
  {
   "cell_type": "code",
   "execution_count": 5,
   "metadata": {},
   "outputs": [
    {
     "data": {
      "application/vnd.jupyter.widget-view+json": {
       "model_id": "794be20fc8a64b8c97fe362e1b336db2",
       "version_major": 2,
       "version_minor": 0
      },
      "text/plain": [
       "FloatProgress(value=0.0, bar_style='info', description='Progress:')"
      ]
     },
     "metadata": {},
     "output_type": "display_data"
    },
    {
     "name": "stdout",
     "output_type": "stream",
     "text": [
      "getTimer() is deprecated since 3.0.3. Global measurement group timer does not exist\n",
      "ExtraColumns is not defined\n",
      "ScanDir is not defined. This operation will not be stored persistently. Use \"expconf\" or \"newfile\" to configure data storage (or eventually \"senv ScanDir <abs directory>\")\n",
      "SharedMemory is not defined. Use \"senv SharedMemory sps\" to enable it\n",
      "Scan #53 started at Fri Nov 12 20:19:26 2021. It will take at least 0:00:07.916108\n",
      " #Pt No    mot19     mot21      ct17      ct21      ct22      ct23       dt   \n",
      "   0         1         4        0.1       0.2       0.3       0.4     1.34265 \n",
      "   1      1.93333     5.4       0.1       0.2       0.3       0.4     1.82235 \n",
      "   2      2.86667     6.8       0.1       0.2       0.3       0.4     2.28898 \n",
      "   3        3.8       8.2       0.1       0.2       0.3       0.4     2.76713 \n",
      "   4      4.73333     9.6       0.1       0.2       0.3       0.4     3.25117 \n",
      "   5      5.66667      11       0.1       0.2       0.3       0.4     3.72295 \n",
      "   6        6.6       12.4      0.1       0.2       0.3       0.4     4.20357 \n",
      "   7      7.53333     13.8      0.1       0.2       0.3       0.4     4.68188 \n",
      "   8      8.46667     15.2      0.1       0.2       0.3       0.4     5.16176 \n",
      "   9        9.4       16.6      0.1       0.2       0.3       0.4     5.63965 \n",
      "   10     10.3333      18       0.1       0.2       0.3       0.4     6.12186 \n",
      "   11     11.2667     19.4      0.1       0.2       0.3       0.4     6.60033 \n",
      "   12       12.2      20.8      0.1       0.2       0.3       0.4     7.08427 \n",
      "   13     13.1333     22.2      0.1       0.2       0.3       0.4     7.56346 \n",
      "   14     14.0667     23.6      0.1       0.2       0.3       0.4      8.0582 \n",
      "   15        15        25       0.1       0.2       0.3       0.4      8.5418 \n",
      "Scan #53 ended at Fri Nov 12 20:19:34 2021, taking 0:00:08.667750. Dead time 81.3% (setup time 0.2%, motion dead time 76.3%)\n"
     ]
    }
   ],
   "source": [
    "%a2scan mot19 1 15 mot21 4 25 15 0.1"
   ]
  },
  {
   "cell_type": "code",
   "execution_count": 2,
   "metadata": {},
   "outputs": [
    {
     "data": {
      "application/vnd.jupyter.widget-view+json": {
       "model_id": "38a7228a60584902adcadf0de5f51544",
       "version_major": 2,
       "version_minor": 0
      },
      "text/plain": [
       "FloatProgress(value=0.0, bar_style='info', description='Progress:')"
      ]
     },
     "metadata": {},
     "output_type": "display_data"
    },
    {
     "name": "stdout",
     "output_type": "stream",
     "text": [
      "JsonRecorder = True\n"
     ]
    }
   ],
   "source": [
    "senv JsonRecorder true"
   ]
  },
  {
   "cell_type": "code",
   "execution_count": 1,
   "metadata": {},
   "outputs": [
    {
     "data": {
      "application/vnd.jupyter.widget-view+json": {
       "model_id": "676fb0cdc9a44b5ca256b6ff53a6a674",
       "version_major": 2,
       "version_minor": 0
      },
      "text/plain": [
       "FloatProgress(value=0.0, bar_style='info', description='Progress:')"
      ]
     },
     "metadata": {},
     "output_type": "display_data"
    },
    {
     "name": "stdout",
     "output_type": "stream",
     "text": [
      "Hello = 2\n"
     ]
    }
   ],
   "source": [
    "a2scan mo"
   ]
  },
  {
   "cell_type": "code",
   "execution_count": 7,
   "metadata": {},
   "outputs": [
    {
     "data": {
      "application/vnd.jupyter.widget-view+json": {
       "model_id": "aa1284700aee4398be14dea26fcc0955",
       "version_major": 2,
       "version_minor": 0
      },
      "text/plain": [
       "FloatProgress(value=0.0, bar_style='info', description='Progress:')"
      ]
     },
     "metadata": {},
     "output_type": "display_data"
    },
    {
     "name": "stdout",
     "output_type": "stream",
     "text": [
      "getTimer() is deprecated since 3.0.3. Global measurement group timer does not exist\n",
      "ExtraColumns is not defined\n",
      "JsonRecorder is not defined. Use \"senv JsonRecorder True\" to enable it\n",
      "ScanDir is not defined. This operation will not be stored persistently. Use \"expconf\" or \"newfile\" to configure data storage (or eventually \"senv ScanDir <abs directory>\")\n",
      "SharedMemory is not defined. Use \"senv SharedMemory sps\" to enable it\n",
      "Scan #3 started at Thu Oct  7 13:24:36 2021. It will take at least 0:00:01.217727\n",
      " #Pt No    mot01      ct01       dt   \n",
      "   0         0        0.1     0.0670974\n",
      "   1        0.1       0.1     0.269033\n",
      "   2        0.2       0.1     0.477104\n",
      "   3        0.3       0.1     0.665754\n",
      "   4        0.4       0.1     0.865775\n",
      "   5        0.5       0.1     1.08907 \n",
      "   6        0.6       0.1     1.31858 \n",
      "   7        0.7       0.1     1.54018 \n",
      "An error occurred while running ascan:\n",
      "UnboundLocalError: local variable 'endstatus' referenced before assignment\n",
      "Hint: in Spock execute `www`to get more details\n"
     ]
    }
   ],
   "source": [
    "ascan mot01 0 1 10 0.1"
   ]
  },
  {
   "cell_type": "code",
   "execution_count": 6,
   "metadata": {},
   "outputs": [
    {
     "name": "stdout",
     "output_type": "stream",
     "text": [
      "1\n"
     ]
    }
   ],
   "source": [
    "print(1)"
   ]
  },
  {
   "cell_type": "code",
   "execution_count": null,
   "metadata": {},
   "outputs": [],
   "source": []
  }
 ],
 "metadata": {
  "kernelspec": {
   "display_name": "Sardana Kernel",
   "language": "python",
   "name": "sardana_kernel"
  },
  "language_info": {
   "codemirror_mode": {
    "name": "ipython",
    "version": 3
   },
   "file_extension": ".py",
   "mimetype": "text/x-python",
   "name": "python",
   "nbconvert_exporter": "python",
   "pygments_lexer": "ipython3",
   "version": "3.9.7"
  },
  "widgets": {
   "state": {
    "61709fc94da743118f20c59a1c292fef": {
     "views": [
      {
       "cell_index": 4
      }
     ]
    }
   },
   "version": "1.2.0"
  }
 },
 "nbformat": 4,
 "nbformat_minor": 4
}
