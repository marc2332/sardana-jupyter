{
 "cells": [
  {
   "cell_type": "code",
   "execution_count": 1,
   "metadata": {},
   "outputs": [
    {
     "data": {
      "application/vnd.jupyter.widget-view+json": {
       "model_id": "ab4f381cc3a743debd1a2d3e4adcd239",
       "version_major": 2,
       "version_minor": 0
      },
      "text/plain": [
       "FloatProgress(value=0.0, bar_style='info', description='Progress:')"
      ]
     },
     "metadata": {},
     "output_type": "display_data"
    },
    {
     "name": "stdout",
     "output_type": "stream",
     "text": [
      "Configuration changed\n",
      "getTimer() is deprecated since 3.0.3. Global measurement group timer does not exist\n",
      "ExtraColumns is not defined\n",
      "ScanDir is not defined. This operation will not be stored persistently. Use \"expconf\" or \"newfile\" to configure data storage (or eventually \"senv ScanDir <abs directory>\")\n",
      "SharedMemory is not defined. Use \"senv SharedMemory sps\" to enable it\n",
      "Scan #48 started at Thu Nov 11 12:06:43 2021. It will take at least 0:00:07.916108\n",
      " #Pt No    mot19     mot21      ct17      ct21      ct22      ct23       dt   \n",
      "   0         1         4        0.1       0.2       0.3       0.4     1.37864 \n",
      "   1      1.93333     5.4       0.1       0.2       0.3       0.4     1.85943 \n",
      "   2      2.86667     6.8       0.1       0.2       0.3       0.4     2.32984 \n",
      "   3        3.8       8.2       0.1       0.2       0.3       0.4     2.80989 \n",
      "   4      4.73333     9.6       0.1       0.2       0.3       0.4     3.27831 \n",
      "   5      5.66667      11       0.1       0.2       0.3       0.4     3.74889 \n",
      "   6        6.6       12.4      0.1       0.2       0.3       0.4     4.21684 \n",
      "   7      7.53333     13.8      0.1       0.2       0.3       0.4     4.68636 \n",
      "   8      8.46667     15.2      0.1       0.2       0.3       0.4     5.16238 \n",
      "   9        9.4       16.6      0.1       0.2       0.3       0.4     5.64018 \n",
      "   10     10.3333      18       0.1       0.2       0.3       0.4     6.10957 \n",
      "   11     11.2667     19.4      0.1       0.2       0.3       0.4     6.58166 \n",
      "   12       12.2      20.8      0.1       0.2       0.3       0.4     7.06334 \n",
      "   13     13.1333     22.2      0.1       0.2       0.3       0.4     7.54527 \n",
      "   14     14.0667     23.6      0.1       0.2       0.3       0.4     8.02413 \n",
      "   15        15        25       0.1       0.2       0.3       0.4     8.50424 \n",
      "Scan #48 ended at Thu Nov 11 12:06:52 2021, taking 0:00:08.636750. Dead time 80.9% (setup time 0.6%, motion dead time 76.1%)\n"
     ]
    }
   ],
   "source": [
    "%a2scan mot19 1 15 mot21 4 25 15 0.1"
   ]
  },
  {
   "cell_type": "code",
   "execution_count": 2,
   "metadata": {},
   "outputs": [
    {
     "data": {
      "application/vnd.jupyter.widget-view+json": {
       "model_id": "38a7228a60584902adcadf0de5f51544",
       "version_major": 2,
       "version_minor": 0
      },
      "text/plain": [
       "FloatProgress(value=0.0, bar_style='info', description='Progress:')"
      ]
     },
     "metadata": {},
     "output_type": "display_data"
    },
    {
     "name": "stdout",
     "output_type": "stream",
     "text": [
      "JsonRecorder = True\n"
     ]
    }
   ],
   "source": [
    "senv JsonRecorder true"
   ]
  },
  {
   "cell_type": "code",
   "execution_count": 2,
   "metadata": {},
   "outputs": [
    {
     "data": {
      "application/vnd.jupyter.widget-view+json": {
       "model_id": "ec6ee640060e4cc68f76fe01971868df",
       "version_major": 2,
       "version_minor": 0
      },
      "text/plain": [
       "FloatProgress(value=0.0, bar_style='info', description='Progress:')"
      ]
     },
     "metadata": {},
     "output_type": "display_data"
    },
    {
     "name": "stdout",
     "output_type": "stream",
     "text": [
      "Hello = 2\n"
     ]
    }
   ],
   "source": [
    "genv Hello"
   ]
  },
  {
   "cell_type": "code",
   "execution_count": 7,
   "metadata": {},
   "outputs": [
    {
     "data": {
      "application/vnd.jupyter.widget-view+json": {
       "model_id": "aa1284700aee4398be14dea26fcc0955",
       "version_major": 2,
       "version_minor": 0
      },
      "text/plain": [
       "FloatProgress(value=0.0, bar_style='info', description='Progress:')"
      ]
     },
     "metadata": {},
     "output_type": "display_data"
    },
    {
     "name": "stdout",
     "output_type": "stream",
     "text": [
      "getTimer() is deprecated since 3.0.3. Global measurement group timer does not exist\n",
      "ExtraColumns is not defined\n",
      "JsonRecorder is not defined. Use \"senv JsonRecorder True\" to enable it\n",
      "ScanDir is not defined. This operation will not be stored persistently. Use \"expconf\" or \"newfile\" to configure data storage (or eventually \"senv ScanDir <abs directory>\")\n",
      "SharedMemory is not defined. Use \"senv SharedMemory sps\" to enable it\n",
      "Scan #3 started at Thu Oct  7 13:24:36 2021. It will take at least 0:00:01.217727\n",
      " #Pt No    mot01      ct01       dt   \n",
      "   0         0        0.1     0.0670974\n",
      "   1        0.1       0.1     0.269033\n",
      "   2        0.2       0.1     0.477104\n",
      "   3        0.3       0.1     0.665754\n",
      "   4        0.4       0.1     0.865775\n",
      "   5        0.5       0.1     1.08907 \n",
      "   6        0.6       0.1     1.31858 \n",
      "   7        0.7       0.1     1.54018 \n",
      "An error occurred while running ascan:\n",
      "UnboundLocalError: local variable 'endstatus' referenced before assignment\n",
      "Hint: in Spock execute `www`to get more details\n"
     ]
    }
   ],
   "source": [
    "ascan mot01 0 1 10 0.1"
   ]
  },
  {
   "cell_type": "code",
   "execution_count": 7,
   "metadata": {},
   "outputs": [
    {
     "ename": "NameError",
     "evalue": "name 'get_config' is not defined",
     "output_type": "error",
     "traceback": [
      "\u001b[0;31m---------------------------------------------------------------------------\u001b[0m",
      "\u001b[0;31mNameError\u001b[0m                                 Traceback (most recent call last)",
      "\u001b[0;32m/tmp/ipykernel_14870/261678788.py\u001b[0m in \u001b[0;36m<module>\u001b[0;34m\u001b[0m\n\u001b[0;32m----> 1\u001b[0;31m \u001b[0mget_config\u001b[0m\u001b[0;34m(\u001b[0m\u001b[0;34m)\u001b[0m\u001b[0;34m\u001b[0m\u001b[0;34m\u001b[0m\u001b[0m\n\u001b[0m",
      "\u001b[0;31mNameError\u001b[0m: name 'get_config' is not defined"
     ]
    }
   ],
   "source": [
    "%ascan "
   ]
  }
 ],
 "metadata": {
  "kernelspec": {
   "display_name": "Sardana Kernel",
   "language": "python",
   "name": "sardana_kernel"
  },
  "language_info": {
   "codemirror_mode": {
    "name": "ipython",
    "version": 3
   },
   "file_extension": ".py",
   "mimetype": "text/x-python",
   "name": "python",
   "nbconvert_exporter": "python",
   "pygments_lexer": "ipython3",
   "version": "3.9.7"
  },
  "widgets": {
   "state": {
    "61709fc94da743118f20c59a1c292fef": {
     "views": [
      {
       "cell_index": 4
      }
     ]
    }
   },
   "version": "1.2.0"
  }
 },
 "nbformat": 4,
 "nbformat_minor": 4
}
